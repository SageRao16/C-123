{
  "nbformat": 4,
  "nbformat_minor": 0,
  "metadata": {
    "colab": {
      "provenance": [],
      "authorship_tag": "ABX9TyNqIPM5vFo7f4gd6IyPY1W/",
      "include_colab_link": true
    },
    "kernelspec": {
      "name": "python3",
      "display_name": "Python 3"
    },
    "language_info": {
      "name": "python"
    }
  },
  "cells": [
    {
      "cell_type": "markdown",
      "metadata": {
        "id": "view-in-github",
        "colab_type": "text"
      },
      "source": [
        "<a href=\"https://colab.research.google.com/github/ShGamer16/C-123/blob/main/C_123.ipynb\" target=\"_parent\"><img src=\"https://colab.research.google.com/assets/colab-badge.svg\" alt=\"Open In Colab\"/></a>"
      ]
    },
    {
      "cell_type": "code",
      "execution_count": 1,
      "metadata": {
        "id": "BYFTRDfcrx0C"
      },
      "outputs": [],
      "source": [
        "import numpy as np\n",
        "import random\n",
        "rewards = np.array([\n",
        "    [-1,-1,-1,-1,0,-1],\n",
        "    [-1,-1,-1,0,-1,100],\n",
        "    [-1,-1,-1,0,-1,-1],\n",
        "    [-1,0,0,-1,-1,-1],\n",
        "    [0,-1,-1,-1,-1,100],\n",
        "    [-1,-1,-1,-1,0,100]\n",
        "])\n",
        "\n",
        "def set_initial_state():\n",
        "  return np.random.randint(0,6)\n",
        "  "
      ]
    },
    {
      "cell_type": "code",
      "source": [
        "set_initial_state()"
      ],
      "metadata": {
        "colab": {
          "base_uri": "https://localhost:8080/"
        },
        "id": "ZRsq_nv2tfyM",
        "outputId": "ee970dbb-f12f-43cb-cfa0-caee7b8824bf"
      },
      "execution_count": 10,
      "outputs": [
        {
          "output_type": "execute_result",
          "data": {
            "text/plain": [
              "1"
            ]
          },
          "metadata": {},
          "execution_count": 10
        }
      ]
    },
    {
      "cell_type": "code",
      "source": [
        "def get_action(current_state,reward_matrix):\n",
        "  available_action = []\n",
        "  print('reward_matrix',reward_matrix)\n",
        "  for action in enumerate(reward_matrix[current_state]):\n",
        "    if action[1]!= -1:\n",
        "      available_action.append(action[0])\n",
        "  \n",
        "  choose_action = random.choice(available_action)\n",
        "  print('random choice of action from ',available_action,'is',choose_action)\n",
        "  return choose_action"
      ],
      "metadata": {
        "id": "tA0zGR0XtxRw"
      },
      "execution_count": 11,
      "outputs": []
    },
    {
      "cell_type": "code",
      "source": [
        "current_state = 4\n",
        "action = get_action(current_state,rewards)\n",
        "print(action)"
      ],
      "metadata": {
        "colab": {
          "base_uri": "https://localhost:8080/"
        },
        "id": "EvbJcGsVvauE",
        "outputId": "3b91ee3b-1c1a-4b2f-9114-917932a34cdf"
      },
      "execution_count": 14,
      "outputs": [
        {
          "output_type": "stream",
          "name": "stdout",
          "text": [
            "reward_matrix [[ -1  -1  -1  -1   0  -1]\n",
            " [ -1  -1  -1   0  -1 100]\n",
            " [ -1  -1  -1   0  -1  -1]\n",
            " [ -1   0   0  -1  -1  -1]\n",
            " [  0  -1  -1  -1  -1 100]\n",
            " [ -1  -1  -1  -1   0 100]]\n",
            "random choice of action from  [0, 5] is 0\n",
            "0\n"
          ]
        }
      ]
    }
  ]
}